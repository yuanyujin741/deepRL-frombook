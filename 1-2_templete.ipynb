{
 "cells": [
  {
   "cell_type": "markdown",
   "id": "44bd07fc",
   "metadata": {},
   "source": [
    "# 学习目标"
   ]
  },
  {
   "cell_type": "code",
   "execution_count": null,
   "id": "18158587",
   "metadata": {},
   "outputs": [],
   "source": [
    "# import everything here...\n",
    "%load_ext autoreload\n",
    "%autoreload 2\n",
    "from RL_utils import *\n",
    "%matplotlib inline"
   ]
  },
  {
   "cell_type": "code",
   "execution_count": null,
   "id": "d2c5986d",
   "metadata": {},
   "outputs": [],
   "source": [
    "# create env\n",
    "import gym\n",
    "env = gym.make(\"CartPole-v0\",render_mode=\"human\") # \n",
    "config = Config(learning_rate=0.001, DBM=True) # 使用默认配置\n",
    "if config.DBM:\n",
    "    config.print_cfg()\n",
    "set_seed(config)"
   ]
  },
  {
   "cell_type": "code",
   "execution_count": null,
   "id": "605e4adc",
   "metadata": {},
   "outputs": [],
   "source": [
    "# network construction\n",
    "device = torch.device(\"cuda\" if torch.cuda.is_available() else \"cpu\")\n",
    "if config.DBM:\n",
    "    print(\"using device:\",device)\n",
    "env_cfg = Env_Config(obdim=env.observation_space.shape[0],acdim=env.action_space.n)\n",
    "if config.DBM:\n",
    "    env_cfg.print_cfg()\n",
    "epsilon = Epsilon(original_val=1, min_val=0.1, liner_decay=1/2000)\n",
    "\n"
   ]
  }
 ],
 "metadata": {
  "language_info": {
   "name": "python"
  }
 },
 "nbformat": 4,
 "nbformat_minor": 5
}
