{
 "cells": [
  {
   "cell_type": "markdown",
   "id": "44bd07fc",
   "metadata": {},
   "source": [
    "# 主要目标\n",
    "尝试使用神经网络直接拟合策略网络的输出。而不是使用TD的方案。\n",
    "主要是提升对于这个“蒙特卡洛是步长最大的多步TD”的理解。"
   ]
  },
  {
   "cell_type": "code",
   "execution_count": 1,
   "id": "18158587",
   "metadata": {},
   "outputs": [],
   "source": [
    "# import everything here...\n",
    "%load_ext autoreload\n",
    "%autoreload 2\n",
    "from RL_utils import *\n",
    "%matplotlib inline"
   ]
  },
  {
   "cell_type": "code",
   "execution_count": 2,
   "id": "d2c5986d",
   "metadata": {},
   "outputs": [
    {
     "name": "stdout",
     "output_type": "stream",
     "text": [
      "--- config ---\n",
      "max_episode: 3000\n",
      "max_steps: 100\n",
      "learning_rate: 0.001\n",
      "gamma: 0.99\n",
      "epsilon: 0.1\n",
      "seed: 42\n",
      "tau: 0.01\n",
      "------------\n"
     ]
    },
    {
     "name": "stderr",
     "output_type": "stream",
     "text": [
      "e:\\anaconda\\envs\\llama_factory\\lib\\site-packages\\gym\\envs\\registration.py:555: UserWarning: \u001b[33mWARN: The environment CartPole-v0 is out of date. You should consider upgrading to version `v1`.\u001b[0m\n",
      "  logger.warn(\n"
     ]
    }
   ],
   "source": [
    "# create env\n",
    "import gym\n",
    "env = gym.make(\"CartPole-v0\")\n",
    "config = Config(learning_rate=0.001, DBM=True) # 使用默认配置\n",
    "if config.DBM:\n",
    "    config.print_cfg()\n",
    "    env = gym.make(\"CartPole-v1\",render_mode=\"human\")\n",
    "set_seed(config)"
   ]
  },
  {
   "cell_type": "code",
   "execution_count": 3,
   "id": "605e4adc",
   "metadata": {},
   "outputs": [
    {
     "name": "stdout",
     "output_type": "stream",
     "text": [
      "using device: cuda\n",
      "obdim: 4\n",
      "acdim: 2\n"
     ]
    }
   ],
   "source": [
    "# network construction\n",
    "device = torch.device(\"cuda\" if torch.cuda.is_available() else \"cpu\")\n",
    "if config.DBM:\n",
    "    print(\"using device:\",device)\n",
    "env_cfg = Env_Config(obdim=env.observation_space.shape[0],acdim=env.action_space.n)\n",
    "if config.DBM:\n",
    "    env_cfg.print_cfg()\n",
    "epsilon = Epsilon(original_val=1, min_val=0.1, liner_decay=1/500)\n",
    "monte = MonteCarlo(env_config=env_cfg,config=config,device = device)"
   ]
  },
  {
   "cell_type": "code",
   "execution_count": 4,
   "id": "45137cca",
   "metadata": {},
   "outputs": [
    {
     "name": "stdout",
     "output_type": "stream",
     "text": [
      "Python文件 PATH:\n",
      " ['e:\\\\anaconda\\\\envs\\\\llama_factory', 'C:\\\\Program Files\\\\NVIDIA GPU Computing Toolkit\\\\CUDA\\\\v12.4\\\\bin', 'C:\\\\Program Files\\\\NVIDIA GPU Computing Toolkit\\\\CUDA\\\\v12.4\\\\libnvvp', 'E:\\\\gurobi1201\\\\win64\\\\bin', 'E:\\\\cplex_exe_installed\\\\opl\\\\bin\\\\x64_win64', 'E:\\\\cplex_exe_installed\\\\opl\\\\oplide\\\\', 'E:\\\\cplex_exe_installed\\\\cplex\\\\bin\\\\x64_win64', 'E:\\\\cplex_exe_installed\\\\cpoptimizer\\\\bin\\\\x64_win64', 'C:\\\\Program Files\\\\Microsoft MPI\\\\Bin\\\\', 'C:\\\\Windows\\\\system32', 'C:\\\\Windows', 'C:\\\\Windows\\\\System32\\\\Wbem', 'C:\\\\Windows\\\\System32\\\\WindowsPowerShell\\\\v1.0\\\\', 'C:\\\\Windows\\\\System32\\\\OpenSSH\\\\', 'C:\\\\Program Files (x86)\\\\NVIDIA Corporation\\\\PhysX\\\\Common', 'C:\\\\Program Files\\\\NVIDIA Corporation\\\\NVIDIA NvDLISR', 'C:\\\\Program Files\\\\dotnet\\\\', 'C:\\\\Program Files\\\\Bandizip\\\\', 'E:\\\\Dev-Cpp\\\\MinGW64\\\\bin', 'C:\\\\WINDOWS\\\\system32', 'C:\\\\WINDOWS', 'C:\\\\WINDOWS\\\\System32\\\\Wbem', 'C:\\\\WINDOWS\\\\System32\\\\WindowsPowerShell\\\\v1.0\\\\', 'C:\\\\WINDOWS\\\\System32\\\\OpenSSH\\\\', 'E:\\\\matlab 2023-2024 winter vacation\\\\runtime\\\\win64', 'E:\\\\matlab 2023-2024 winter vacation\\\\bin', 'E:\\\\matlab\\\\2024a\\\\bin', 'E:\\\\anaconda\\\\Lib\\\\site-packages', 'D:\\\\miklex\\\\miktex\\\\bin\\\\x64', 'E:\\\\gs926aw64_install_place\\\\gs9.26\\\\bin', 'C:\\\\Program Files (x86)\\\\IVI Foundation\\\\VISA\\\\WinNT\\\\Bin\\\\', 'C:\\\\Program Files\\\\IVI Foundation\\\\VISA\\\\Win64\\\\Bin\\\\', 'C:\\\\Program Files (x86)\\\\IVI Foundation\\\\VISA\\\\WinNT\\\\Bin', 'C:\\\\Users\\\\user\\\\Desktop\\\\AIfotConverge_new\\\\venv\\\\bin\\\\python', 'c:\\\\Users\\\\user\\\\AppData\\\\Local\\\\Programs\\\\cursor\\\\resources\\\\app\\\\bin', 'E:\\\\Git\\\\cmd', 'E:\\\\Git\\\\bin', 'E:\\\\anaconda\\\\envs\\\\llama_factory\\\\Library\\\\bin', 'C:\\\\Program Files\\\\NVIDIA Corporation\\\\Nsight Compute 2024.1.0\\\\', 'D:\\\\谷歌游览器下载\\\\learntocut-master', 'D:\\\\MinGW\\\\bin', 'E:\\\\anaconda\\\\envs\\\\llama_factory\\\\Scripts', 'D:\\\\learntocut-master\\\\learntocut-master\\\\libs\\\\cwrapping\\\\gurobicpy', 'E:\\\\anaconda', 'E:\\\\anaconda\\\\Library\\\\mingw-w64\\\\bin', 'E:\\\\anaconda\\\\Library\\\\usr\\\\bin', 'E:\\\\anaconda\\\\Library\\\\bin', 'E:\\\\anaconda\\\\Scripts', 'E:\\\\python\\\\Scripts\\\\', 'E:\\\\python\\\\', 'C:\\\\Users\\\\user\\\\AppData\\\\Local\\\\Microsoft\\\\WindowsApps', 'E:\\\\codeblocks\\\\MinGW\\\\bin\\\\libstdc++-6.dll', 'E:\\\\codeblocks\\\\MinGW\\\\x86_64-w64-mingw32\\\\lib\\\\libstdc++-6.dll', 'E:\\\\modelsim\\\\win64', 'E:\\\\pycharm2023.3.5\\\\PyCharm 2023.3.5\\\\bin', '', 'C:\\\\Program Files\\\\Microsoft MPI\\\\Bin', 'D:\\\\miklex\\\\miktex\\\\bin\\\\x64\\\\', 'E:\\\\pycharm\\\\python_doc\\\\大床\\\\coded_elastic_computing', 'E:\\\\pycharm\\\\python_doc', 'E:\\\\anaconda\\\\Lib\\\\site-packages\\\\torch\\\\lib', 'C:\\\\Users\\\\user\\\\AppData\\\\Roaming\\\\EasyShu\\\\MiniBlink', 'C:\\\\Users\\\\user\\\\AppData\\\\Local\\\\Programs\\\\Ollama', 'E:\\\\Microsoft VS Code\\\\bin', 'C:\\\\Program Files\\\\NVIDIA GPU Computing Toolkit\\\\CUDA\\\\v12.4\\\\bin', 'C:\\\\Program Files\\\\NVIDIA GPU Computing Toolkit\\\\CUDA\\\\v12.4\\\\libnvvp', 'E:\\\\gurobi1201\\\\win64\\\\bin', 'E:\\\\cplex_exe_installed\\\\opl\\\\bin\\\\x64_win64', 'E:\\\\cplex_exe_installed\\\\opl\\\\oplide\\\\', 'E:\\\\cplex_exe_installed\\\\cplex\\\\bin\\\\x64_win64', 'E:\\\\cplex_exe_installed\\\\cpoptimizer\\\\bin\\\\x64_win64', 'C:\\\\Program Files\\\\Microsoft MPI\\\\Bin\\\\', 'C:\\\\Windows\\\\system32', 'C:\\\\Windows', 'C:\\\\Windows\\\\System32\\\\Wbem', 'C:\\\\Windows\\\\System32\\\\WindowsPowerShell\\\\v1.0\\\\', 'C:\\\\Windows\\\\System32\\\\OpenSSH\\\\', 'C:\\\\Program Files (x86)\\\\NVIDIA Corporation\\\\PhysX\\\\Common', 'C:\\\\Program Files\\\\NVIDIA Corporation\\\\NVIDIA NvDLISR', 'C:\\\\Program Files\\\\dotnet\\\\', 'C:\\\\Program Files\\\\Bandizip\\\\', 'E:\\\\Dev-Cpp\\\\MinGW64\\\\bin', 'C:\\\\WINDOWS\\\\system32', 'C:\\\\WINDOWS', 'C:\\\\WINDOWS\\\\System32\\\\Wbem', 'C:\\\\WINDOWS\\\\System32\\\\WindowsPowerShell\\\\v1.0\\\\', 'C:\\\\WINDOWS\\\\System32\\\\OpenSSH\\\\', 'E:\\\\matlab 2023-2024 winter vacation\\\\runtime\\\\win64', 'E:\\\\matlab 2023-2024 winter vacation\\\\bin', 'E:\\\\matlab\\\\2024a\\\\bin', 'E:\\\\anaconda\\\\Lib\\\\site-packages', 'D:\\\\miklex\\\\miktex\\\\bin\\\\x64', 'E:\\\\gs926aw64_install_place\\\\gs9.26\\\\bin', 'C:\\\\Program Files (x86)\\\\IVI Foundation\\\\VISA\\\\WinNT\\\\Bin\\\\', 'C:\\\\Program Files\\\\IVI Foundation\\\\VISA\\\\Win64\\\\Bin\\\\', 'C:\\\\Program Files (x86)\\\\IVI Foundation\\\\VISA\\\\WinNT\\\\Bin', 'C:\\\\Users\\\\user\\\\Desktop\\\\AIfotConverge_new\\\\venv\\\\bin\\\\python', 'c:\\\\Users\\\\user\\\\AppData\\\\Local\\\\Programs\\\\cursor\\\\resources\\\\app\\\\bin', 'E:\\\\Git\\\\cmd', 'E:\\\\Git\\\\bin', 'E:\\\\anaconda\\\\envs\\\\llama_factory\\\\Library\\\\bin', 'C:\\\\Program Files\\\\NVIDIA Corporation\\\\Nsight Compute 2024.1.0\\\\', 'D:\\\\谷歌游览器下载\\\\learntocut-master', 'D:\\\\MinGW\\\\bin', 'E:\\\\anaconda\\\\envs\\\\llama_factory\\\\Scripts', 'D:\\\\learntocut-master\\\\learntocut-master\\\\libs\\\\cwrapping\\\\gurobicpy', 'E:\\\\anaconda', 'E:\\\\anaconda\\\\Library\\\\mingw-w64\\\\bin', 'E:\\\\anaconda\\\\Library\\\\usr\\\\bin', 'E:\\\\anaconda\\\\Library\\\\bin', 'E:\\\\anaconda\\\\Scripts', 'E:\\\\python\\\\Scripts\\\\', 'E:\\\\python\\\\', 'C:\\\\Users\\\\user\\\\AppData\\\\Local\\\\Microsoft\\\\WindowsApps', 'E:\\\\codeblocks\\\\MinGW\\\\bin\\\\libstdc++-6.dll', 'E:\\\\codeblocks\\\\MinGW\\\\x86_64-w64-mingw32\\\\lib\\\\libstdc++-6.dll', 'E:\\\\modelsim\\\\win64', 'E:\\\\pycharm2023.3.5\\\\PyCharm 2023.3.5\\\\bin', '', 'C:\\\\Program Files\\\\Microsoft MPI\\\\Bin', 'D:\\\\miklex\\\\miktex\\\\bin\\\\x64\\\\', 'E:\\\\pycharm\\\\python_doc\\\\大床\\\\coded_elastic_computing', 'E:\\\\pycharm\\\\python_doc', 'E:\\\\anaconda\\\\Lib\\\\site-packages\\\\torch\\\\lib', 'C:\\\\Users\\\\user\\\\AppData\\\\Roaming\\\\EasyShu\\\\MiniBlink', 'C:\\\\Users\\\\user\\\\AppData\\\\Local\\\\Programs\\\\Ollama', 'E:\\\\Microsoft VS Code\\\\bin']\n"
     ]
    }
   ],
   "source": [
    "import os\n",
    "print(\"Python文件 PATH:\\n\", os.environ[\"PATH\"].split(\";\"))"
   ]
  },
  {
   "cell_type": "code",
   "execution_count": 5,
   "id": "057f0172",
   "metadata": {},
   "outputs": [
    {
     "ename": "KeyboardInterrupt",
     "evalue": "",
     "output_type": "error",
     "traceback": [
      "\u001b[1;31m---------------------------------------------------------------------------\u001b[0m",
      "\u001b[1;31mKeyboardInterrupt\u001b[0m                         Traceback (most recent call last)",
      "Cell \u001b[1;32mIn[5], line 27\u001b[0m\n\u001b[0;32m     25\u001b[0m log[\u001b[38;5;124m\"\u001b[39m\u001b[38;5;124mtotal_loss\u001b[39m\u001b[38;5;124m\"\u001b[39m]\u001b[38;5;241m.\u001b[39mappend(np\u001b[38;5;241m.\u001b[39mlog10(loss))\n\u001b[0;32m     26\u001b[0m \u001b[38;5;66;03m# draw in ipynb\u001b[39;00m\n\u001b[1;32m---> 27\u001b[0m \u001b[43mdraw_in_ipynb\u001b[49m\u001b[43m(\u001b[49m\u001b[43mx_s\u001b[49m\u001b[38;5;241;43m=\u001b[39;49m\u001b[43m[\u001b[49m\u001b[38;5;28;43;01mNone\u001b[39;49;00m\u001b[43m,\u001b[49m\u001b[38;5;28;43;01mNone\u001b[39;49;00m\u001b[43m,\u001b[49m\u001b[38;5;28;43;01mNone\u001b[39;49;00m\u001b[43m]\u001b[49m\u001b[43m,\u001b[49m\u001b[43my_s\u001b[49m\u001b[38;5;241;43m=\u001b[39;49m\u001b[43m[\u001b[49m\u001b[43mlog\u001b[49m\u001b[43m[\u001b[49m\u001b[38;5;124;43m\"\u001b[39;49m\u001b[38;5;124;43mtotal_loss\u001b[39;49m\u001b[38;5;124;43m\"\u001b[39;49m\u001b[43m]\u001b[49m\u001b[43m,\u001b[49m\u001b[43mlog\u001b[49m\u001b[43m[\u001b[49m\u001b[38;5;124;43m\"\u001b[39;49m\u001b[38;5;124;43mtotal_reward\u001b[39;49m\u001b[38;5;124;43m\"\u001b[39;49m\u001b[43m]\u001b[49m\u001b[43m,\u001b[49m\u001b[43mlog\u001b[49m\u001b[43m[\u001b[49m\u001b[38;5;124;43m'\u001b[39;49m\u001b[38;5;124;43mpredicted_total_reward\u001b[39;49m\u001b[38;5;124;43m'\u001b[39;49m\u001b[43m]\u001b[49m\u001b[43m]\u001b[49m\u001b[43m,\u001b[49m\u001b[43malpha_s\u001b[49m\u001b[38;5;241;43m=\u001b[39;49m\u001b[43m[\u001b[49m\u001b[38;5;241;43m0.5\u001b[39;49m\u001b[43m,\u001b[49m\u001b[38;5;241;43m0.3\u001b[39;49m\u001b[43m,\u001b[49m\u001b[38;5;241;43m0.5\u001b[39;49m\u001b[43m]\u001b[49m\u001b[43m,\u001b[49m\u001b[43mlabel_s\u001b[49m\u001b[38;5;241;43m=\u001b[39;49m\u001b[43m[\u001b[49m\u001b[38;5;124;43m\"\u001b[39;49m\u001b[38;5;124;43mlog10(losses)\u001b[39;49m\u001b[38;5;124;43m\"\u001b[39;49m\u001b[43m,\u001b[49m\u001b[38;5;124;43m\"\u001b[39;49m\u001b[38;5;124;43mrewards\u001b[39;49m\u001b[38;5;124;43m\"\u001b[39;49m\u001b[43m,\u001b[49m\u001b[38;5;124;43m'\u001b[39;49m\u001b[38;5;124;43mpredicted_reward\u001b[39;49m\u001b[38;5;124;43m'\u001b[39;49m\u001b[43m]\u001b[49m\u001b[43m,\u001b[49m\u001b[43mmark_s\u001b[49m\u001b[38;5;241;43m=\u001b[39;49m\u001b[43m[\u001b[49m\u001b[38;5;124;43m\"\u001b[39;49m\u001b[38;5;124;43mr--\u001b[39;49m\u001b[38;5;124;43m\"\u001b[39;49m\u001b[43m,\u001b[49m\u001b[38;5;124;43m'\u001b[39;49m\u001b[38;5;124;43mb-\u001b[39;49m\u001b[38;5;124;43m'\u001b[39;49m\u001b[43m,\u001b[49m\u001b[38;5;124;43m\"\u001b[39;49m\u001b[38;5;124;43mg:\u001b[39;49m\u001b[38;5;124;43m\"\u001b[39;49m\u001b[43m]\u001b[49m\u001b[43m,\u001b[49m\u001b[43msubject\u001b[49m\u001b[38;5;241;43m=\u001b[39;49m\u001b[38;5;124;43m\"\u001b[39;49m\u001b[38;5;124;43mMonteCarlo\u001b[39;49m\u001b[38;5;124;43m\"\u001b[39;49m\u001b[43m,\u001b[49m\u001b[43mconfig\u001b[49m\u001b[38;5;241;43m=\u001b[39;49m\u001b[43mconfig\u001b[49m\u001b[43m)\u001b[49m\n\u001b[0;32m     28\u001b[0m epsilon\u001b[38;5;241m.\u001b[39mlin_update()\n",
      "File \u001b[1;32me:\\pycharm\\python_doc\\deepRL-frombook\\RL_utils.py:355\u001b[0m, in \u001b[0;36mdraw_in_ipynb\u001b[1;34m(x_s, y_s, alpha_s, label_s, mark_s, titletype, subject, xlabel, ylabel, config)\u001b[0m\n\u001b[0;32m    353\u001b[0m \u001b[38;5;28;01mfor\u001b[39;00m i \u001b[38;5;129;01min\u001b[39;00m \u001b[38;5;28mrange\u001b[39m(\u001b[38;5;28mlen\u001b[39m(y_s)):\n\u001b[0;32m    354\u001b[0m     \u001b[38;5;28;01mif\u001b[39;00m x_s[i] \u001b[38;5;241m==\u001b[39m \u001b[38;5;28;01mNone\u001b[39;00m:\n\u001b[1;32m--> 355\u001b[0m         line, \u001b[38;5;241m=\u001b[39m \u001b[43mplt\u001b[49m\u001b[38;5;241;43m.\u001b[39;49m\u001b[43mplot\u001b[49m\u001b[43m(\u001b[49m\u001b[43my_s\u001b[49m\u001b[43m[\u001b[49m\u001b[43mi\u001b[49m\u001b[43m]\u001b[49m\u001b[43m,\u001b[49m\u001b[43mmark_s\u001b[49m\u001b[43m[\u001b[49m\u001b[43mi\u001b[49m\u001b[43m]\u001b[49m\u001b[43m,\u001b[49m\u001b[43malpha\u001b[49m\u001b[43m \u001b[49m\u001b[38;5;241;43m=\u001b[39;49m\u001b[43m \u001b[49m\u001b[43malpha_s\u001b[49m\u001b[43m[\u001b[49m\u001b[43mi\u001b[49m\u001b[43m]\u001b[49m\u001b[43m,\u001b[49m\u001b[43mlabel\u001b[49m\u001b[43m \u001b[49m\u001b[38;5;241;43m=\u001b[39;49m\u001b[43m \u001b[49m\u001b[43mlabel_s\u001b[49m\u001b[43m[\u001b[49m\u001b[43mi\u001b[49m\u001b[43m]\u001b[49m\u001b[43m)\u001b[49m\n\u001b[0;32m    356\u001b[0m     \u001b[38;5;28;01melse\u001b[39;00m:\n\u001b[0;32m    357\u001b[0m         line, \u001b[38;5;241m=\u001b[39m plt\u001b[38;5;241m.\u001b[39mplot(x_s[i],y_s[i],mark_s[i],alpha \u001b[38;5;241m=\u001b[39m alpha_s[i],label \u001b[38;5;241m=\u001b[39m label_s[i])\n",
      "File \u001b[1;32me:\\anaconda\\envs\\llama_factory\\lib\\site-packages\\matplotlib\\pyplot.py:3827\u001b[0m, in \u001b[0;36mplot\u001b[1;34m(scalex, scaley, data, *args, **kwargs)\u001b[0m\n\u001b[0;32m   3819\u001b[0m \u001b[38;5;129m@_copy_docstring_and_deprecators\u001b[39m(Axes\u001b[38;5;241m.\u001b[39mplot)\n\u001b[0;32m   3820\u001b[0m \u001b[38;5;28;01mdef\u001b[39;00m\u001b[38;5;250m \u001b[39m\u001b[38;5;21mplot\u001b[39m(\n\u001b[0;32m   3821\u001b[0m     \u001b[38;5;241m*\u001b[39margs: \u001b[38;5;28mfloat\u001b[39m \u001b[38;5;241m|\u001b[39m ArrayLike \u001b[38;5;241m|\u001b[39m \u001b[38;5;28mstr\u001b[39m,\n\u001b[1;32m   (...)\u001b[0m\n\u001b[0;32m   3825\u001b[0m     \u001b[38;5;241m*\u001b[39m\u001b[38;5;241m*\u001b[39mkwargs,\n\u001b[0;32m   3826\u001b[0m ) \u001b[38;5;241m-\u001b[39m\u001b[38;5;241m>\u001b[39m \u001b[38;5;28mlist\u001b[39m[Line2D]:\n\u001b[1;32m-> 3827\u001b[0m     \u001b[38;5;28;01mreturn\u001b[39;00m \u001b[43mgca\u001b[49m\u001b[43m(\u001b[49m\u001b[43m)\u001b[49m\u001b[38;5;241m.\u001b[39mplot(\n\u001b[0;32m   3828\u001b[0m         \u001b[38;5;241m*\u001b[39margs,\n\u001b[0;32m   3829\u001b[0m         scalex\u001b[38;5;241m=\u001b[39mscalex,\n\u001b[0;32m   3830\u001b[0m         scaley\u001b[38;5;241m=\u001b[39mscaley,\n\u001b[0;32m   3831\u001b[0m         \u001b[38;5;241m*\u001b[39m\u001b[38;5;241m*\u001b[39m({\u001b[38;5;124m\"\u001b[39m\u001b[38;5;124mdata\u001b[39m\u001b[38;5;124m\"\u001b[39m: data} \u001b[38;5;28;01mif\u001b[39;00m data \u001b[38;5;129;01mis\u001b[39;00m \u001b[38;5;129;01mnot\u001b[39;00m \u001b[38;5;28;01mNone\u001b[39;00m \u001b[38;5;28;01melse\u001b[39;00m {}),\n\u001b[0;32m   3832\u001b[0m         \u001b[38;5;241m*\u001b[39m\u001b[38;5;241m*\u001b[39mkwargs,\n\u001b[0;32m   3833\u001b[0m     )\n",
      "File \u001b[1;32me:\\anaconda\\envs\\llama_factory\\lib\\site-packages\\matplotlib\\pyplot.py:2774\u001b[0m, in \u001b[0;36mgca\u001b[1;34m()\u001b[0m\n\u001b[0;32m   2772\u001b[0m \u001b[38;5;129m@_copy_docstring_and_deprecators\u001b[39m(Figure\u001b[38;5;241m.\u001b[39mgca)\n\u001b[0;32m   2773\u001b[0m \u001b[38;5;28;01mdef\u001b[39;00m\u001b[38;5;250m \u001b[39m\u001b[38;5;21mgca\u001b[39m() \u001b[38;5;241m-\u001b[39m\u001b[38;5;241m>\u001b[39m Axes:\n\u001b[1;32m-> 2774\u001b[0m     \u001b[38;5;28;01mreturn\u001b[39;00m \u001b[43mgcf\u001b[49m\u001b[43m(\u001b[49m\u001b[43m)\u001b[49m\u001b[38;5;241;43m.\u001b[39;49m\u001b[43mgca\u001b[49m\u001b[43m(\u001b[49m\u001b[43m)\u001b[49m\n",
      "File \u001b[1;32me:\\anaconda\\envs\\llama_factory\\lib\\site-packages\\matplotlib\\figure.py:1719\u001b[0m, in \u001b[0;36mFigureBase.gca\u001b[1;34m(self)\u001b[0m\n\u001b[0;32m   1709\u001b[0m \u001b[38;5;250m\u001b[39m\u001b[38;5;124;03m\"\"\"\u001b[39;00m\n\u001b[0;32m   1710\u001b[0m \u001b[38;5;124;03mGet the current Axes.\u001b[39;00m\n\u001b[0;32m   1711\u001b[0m \n\u001b[1;32m   (...)\u001b[0m\n\u001b[0;32m   1716\u001b[0m \u001b[38;5;124;03mwhether `.pyplot.get_fignums()` is empty.)\u001b[39;00m\n\u001b[0;32m   1717\u001b[0m \u001b[38;5;124;03m\"\"\"\u001b[39;00m\n\u001b[0;32m   1718\u001b[0m ax \u001b[38;5;241m=\u001b[39m \u001b[38;5;28mself\u001b[39m\u001b[38;5;241m.\u001b[39m_axstack\u001b[38;5;241m.\u001b[39mcurrent()\n\u001b[1;32m-> 1719\u001b[0m \u001b[38;5;28;01mreturn\u001b[39;00m ax \u001b[38;5;28;01mif\u001b[39;00m ax \u001b[38;5;129;01mis\u001b[39;00m \u001b[38;5;129;01mnot\u001b[39;00m \u001b[38;5;28;01mNone\u001b[39;00m \u001b[38;5;28;01melse\u001b[39;00m \u001b[38;5;28;43mself\u001b[39;49m\u001b[38;5;241;43m.\u001b[39;49m\u001b[43madd_subplot\u001b[49m\u001b[43m(\u001b[49m\u001b[43m)\u001b[49m\n",
      "File \u001b[1;32me:\\anaconda\\envs\\llama_factory\\lib\\site-packages\\matplotlib\\figure.py:768\u001b[0m, in \u001b[0;36mFigureBase.add_subplot\u001b[1;34m(self, *args, **kwargs)\u001b[0m\n\u001b[0;32m    766\u001b[0m         args \u001b[38;5;241m=\u001b[39m \u001b[38;5;28mtuple\u001b[39m(\u001b[38;5;28mmap\u001b[39m(\u001b[38;5;28mint\u001b[39m, \u001b[38;5;28mstr\u001b[39m(args[\u001b[38;5;241m0\u001b[39m])))\n\u001b[0;32m    767\u001b[0m     projection_class, pkw \u001b[38;5;241m=\u001b[39m \u001b[38;5;28mself\u001b[39m\u001b[38;5;241m.\u001b[39m_process_projection_requirements(\u001b[38;5;241m*\u001b[39m\u001b[38;5;241m*\u001b[39mkwargs)\n\u001b[1;32m--> 768\u001b[0m     ax \u001b[38;5;241m=\u001b[39m projection_class(\u001b[38;5;28mself\u001b[39m, \u001b[38;5;241m*\u001b[39margs, \u001b[38;5;241m*\u001b[39m\u001b[38;5;241m*\u001b[39mpkw)\n\u001b[0;32m    769\u001b[0m     key \u001b[38;5;241m=\u001b[39m (projection_class, pkw)\n\u001b[0;32m    770\u001b[0m \u001b[38;5;28;01mreturn\u001b[39;00m \u001b[38;5;28mself\u001b[39m\u001b[38;5;241m.\u001b[39m_add_axes_internal(ax, key)\n",
      "File \u001b[1;32me:\\anaconda\\envs\\llama_factory\\lib\\site-packages\\matplotlib\\axes\\_base.py:685\u001b[0m, in \u001b[0;36m_AxesBase.__init__\u001b[1;34m(self, fig, facecolor, frameon, sharex, sharey, label, xscale, yscale, box_aspect, forward_navigation_events, *args, **kwargs)\u001b[0m\n\u001b[0;32m    683\u001b[0m     \u001b[38;5;28mself\u001b[39m\u001b[38;5;241m.\u001b[39m_position \u001b[38;5;241m=\u001b[39m mtransforms\u001b[38;5;241m.\u001b[39mBbox\u001b[38;5;241m.\u001b[39mfrom_bounds(\u001b[38;5;241m*\u001b[39margs[\u001b[38;5;241m0\u001b[39m])\n\u001b[0;32m    684\u001b[0m \u001b[38;5;28;01melse\u001b[39;00m:\n\u001b[1;32m--> 685\u001b[0m     \u001b[38;5;28mself\u001b[39m\u001b[38;5;241m.\u001b[39m_position \u001b[38;5;241m=\u001b[39m \u001b[38;5;28mself\u001b[39m\u001b[38;5;241m.\u001b[39m_originalPosition \u001b[38;5;241m=\u001b[39m \u001b[43mmtransforms\u001b[49m\u001b[38;5;241;43m.\u001b[39;49m\u001b[43mBbox\u001b[49m\u001b[38;5;241;43m.\u001b[39;49m\u001b[43munit\u001b[49m\u001b[43m(\u001b[49m\u001b[43m)\u001b[49m\n\u001b[0;32m    686\u001b[0m     subplotspec \u001b[38;5;241m=\u001b[39m SubplotSpec\u001b[38;5;241m.\u001b[39m_from_subplot_args(fig, args)\n\u001b[0;32m    687\u001b[0m \u001b[38;5;28;01mif\u001b[39;00m \u001b[38;5;28mself\u001b[39m\u001b[38;5;241m.\u001b[39m_position\u001b[38;5;241m.\u001b[39mwidth \u001b[38;5;241m<\u001b[39m \u001b[38;5;241m0\u001b[39m \u001b[38;5;129;01mor\u001b[39;00m \u001b[38;5;28mself\u001b[39m\u001b[38;5;241m.\u001b[39m_position\u001b[38;5;241m.\u001b[39mheight \u001b[38;5;241m<\u001b[39m \u001b[38;5;241m0\u001b[39m:\n",
      "File \u001b[1;32me:\\anaconda\\envs\\llama_factory\\lib\\site-packages\\matplotlib\\transforms.py:788\u001b[0m, in \u001b[0;36mBbox.unit\u001b[1;34m()\u001b[0m\n\u001b[0;32m    785\u001b[0m \u001b[38;5;129m@staticmethod\u001b[39m\n\u001b[0;32m    786\u001b[0m \u001b[38;5;28;01mdef\u001b[39;00m\u001b[38;5;250m \u001b[39m\u001b[38;5;21munit\u001b[39m():\n\u001b[0;32m    787\u001b[0m \u001b[38;5;250m    \u001b[39m\u001b[38;5;124;03m\"\"\"Create a new unit `Bbox` from (0, 0) to (1, 1).\"\"\"\u001b[39;00m\n\u001b[1;32m--> 788\u001b[0m     \u001b[38;5;28;01mreturn\u001b[39;00m \u001b[43mBbox\u001b[49m\u001b[43m(\u001b[49m\u001b[43m[\u001b[49m\u001b[43m[\u001b[49m\u001b[38;5;241;43m0\u001b[39;49m\u001b[43m,\u001b[49m\u001b[43m \u001b[49m\u001b[38;5;241;43m0\u001b[39;49m\u001b[43m]\u001b[49m\u001b[43m,\u001b[49m\u001b[43m \u001b[49m\u001b[43m[\u001b[49m\u001b[38;5;241;43m1\u001b[39;49m\u001b[43m,\u001b[49m\u001b[43m \u001b[49m\u001b[38;5;241;43m1\u001b[39;49m\u001b[43m]\u001b[49m\u001b[43m]\u001b[49m\u001b[43m)\u001b[49m\n",
      "File \u001b[1;32me:\\anaconda\\envs\\llama_factory\\lib\\site-packages\\matplotlib\\transforms.py:767\u001b[0m, in \u001b[0;36mBbox.__init__\u001b[1;34m(self, points, **kwargs)\u001b[0m\n\u001b[0;32m    763\u001b[0m \u001b[38;5;28mself\u001b[39m\u001b[38;5;241m.\u001b[39m_ignore \u001b[38;5;241m=\u001b[39m \u001b[38;5;28;01mTrue\u001b[39;00m\n\u001b[0;32m    764\u001b[0m \u001b[38;5;66;03m# it is helpful in some contexts to know if the bbox is a\u001b[39;00m\n\u001b[0;32m    765\u001b[0m \u001b[38;5;66;03m# default or has been mutated; we store the orig points to\u001b[39;00m\n\u001b[0;32m    766\u001b[0m \u001b[38;5;66;03m# support the mutated methods\u001b[39;00m\n\u001b[1;32m--> 767\u001b[0m \u001b[38;5;28mself\u001b[39m\u001b[38;5;241m.\u001b[39m_points_orig \u001b[38;5;241m=\u001b[39m \u001b[38;5;28;43mself\u001b[39;49m\u001b[38;5;241;43m.\u001b[39;49m\u001b[43m_points\u001b[49m\u001b[38;5;241;43m.\u001b[39;49m\u001b[43mcopy\u001b[49m\u001b[43m(\u001b[49m\u001b[43m)\u001b[49m\n",
      "\u001b[1;31mKeyboardInterrupt\u001b[0m: "
     ]
    },
    {
     "data": {
      "text/plain": [
       "<Figure size 1500x600 with 0 Axes>"
      ]
     },
     "metadata": {},
     "output_type": "display_data"
    }
   ],
   "source": [
    "log = defaultdict(list)\n",
    "for episode_num in range(config.max_episode):\n",
    "    episode_reward_list = [] # 一个episode的各个步的reward\n",
    "    episode_state_list = []\n",
    "    episode_action_list = []\n",
    "    state, _ = env.reset(seed = config.seed)\n",
    "    done = False\n",
    "    # 更新之前先评估一下当前预测的return，看是低估了还是高估了\n",
    "    predict_total_reward = monte.model(torch.from_numpy(state).to(device=device))\n",
    "    log[\"predicted_total_reward\"].append(torch.mean(predict_total_reward).item())\n",
    "    while not done:\n",
    "        action = select_action(state=state, env = env, model = monte.model, epsilon = epsilon, config=config,device=device, update_epsilon=False)\n",
    "        next_state, reward, done, _, info = env.step(action=action)\n",
    "        if done:\n",
    "            reward = 0\n",
    "        episode_reward_list.append(reward)\n",
    "        episode_state_list.append(state)\n",
    "        episode_action_list.append(action)\n",
    "        if config.DBM:\n",
    "            print_(reward)\n",
    "            print_(state)\n",
    "        state = next_state\n",
    "    loss = monte.update(episode_reward_list=episode_reward_list,episode_state_list=episode_state_list,episode_action_list=episode_action_list)\n",
    "    log[\"total_reward\"].append(sum(episode_reward_list))\n",
    "    log[\"total_loss\"].append(np.log10(loss))\n",
    "    # draw in ipynb\n",
    "    draw_in_ipynb(x_s=[None,None,None],y_s=[log[\"total_loss\"],log[\"total_reward\"],log['predicted_total_reward']],alpha_s=[0.5,0.3,0.5],label_s=[\"log10(losses)\",\"rewards\",'predicted_reward'],mark_s=[\"r--\",'b-',\"g:\"],subject=\"MonteCarlo\",config=config)\n",
    "    epsilon.lin_update()"
   ]
  }
 ],
 "metadata": {
  "kernelspec": {
   "display_name": "llama_factory",
   "language": "python",
   "name": "python3"
  },
  "language_info": {
   "codemirror_mode": {
    "name": "ipython",
    "version": 3
   },
   "file_extension": ".py",
   "mimetype": "text/x-python",
   "name": "python",
   "nbconvert_exporter": "python",
   "pygments_lexer": "ipython3",
   "version": "3.10.18"
  }
 },
 "nbformat": 4,
 "nbformat_minor": 5
}
